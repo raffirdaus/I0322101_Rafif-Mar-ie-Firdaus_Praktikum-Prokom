{
 "cells": [
  {
   "attachments": {},
   "cell_type": "markdown",
   "metadata": {},
   "source": [
    "1. Tulis program dengan fungsi untuk menentukan angka yang paling kecil dari tiga angka yang diberikan!\n",
    "     ###### Note: Angka ditentukan sendiri oleh praktikan"
   ]
  },
  {
   "cell_type": "code",
   "execution_count": 1,
   "metadata": {},
   "outputs": [
    {
     "name": "stdout",
     "output_type": "stream",
     "text": [
      "Berikut list angka = [10, 25, 5]\n",
      "Nilai terkecil dari 3 angka adalah: 5\n"
     ]
    }
   ],
   "source": [
    "# Kerjakan Nomor 1 di bawah ini\n",
    "angka = [10,25,5]\n",
    "print(f'Berikut list angka = {angka}')\n",
    "print(f'Nilai terkecil dari 3 angka adalah: {min(angka)}')\n"
   ]
  },
  {
   "attachments": {},
   "cell_type": "markdown",
   "metadata": {},
   "source": [
    "2. Tulis fungsi Python yang mengambil list awal dan menampilkan list baru dengan angka unik (tidak ada angka yang sama) dari list yang pertama."
   ]
  },
  {
   "cell_type": "code",
   "execution_count": null,
   "metadata": {},
   "outputs": [],
   "source": [
    "list_awal = [20,20,20,20,20,21,21,22,25,26,26,27,29,29,29,30]"
   ]
  },
  {
   "cell_type": "code",
   "execution_count": 3,
   "metadata": {},
   "outputs": [
    {
     "name": "stdout",
     "output_type": "stream",
     "text": [
      "List awal = [20, 20, 20, 20, 20, 21, 21, 22, 25, 26, 26, 27, 29, 29, 29, 30]\n",
      "List akhir = [20, 21, 22, 25, 26, 27, 29, 30]\n"
     ]
    }
   ],
   "source": [
    "# Kerjakan Nomor 2 di bawah ini\n",
    "list_awal = [20,20,20,20,20,21,21,22,25,26,26,27,29,29,29,30]\n",
    "list_akhir = list(set(list_awal))\n",
    "print(f'List awal = {list_awal}')\n",
    "print(f'List akhir = {list_akhir}')\n"
   ]
  },
  {
   "attachments": {},
   "cell_type": "markdown",
   "metadata": {},
   "source": [
    "3. Cari dan tampilkan bilangan genap yang ada pada list dibawah ini menggunakan fungsi built-in (wajib memakai fungsi lambda) dan tampilkan dalam format menurun (menggunakan perulangan)! "
   ]
  },
  {
   "cell_type": "code",
   "execution_count": null,
   "metadata": {},
   "outputs": [],
   "source": [
    "list_angka = [3,7,4,1,13,6,9,8,15,18,21]"
   ]
  },
  {
   "cell_type": "code",
   "execution_count": 4,
   "metadata": {},
   "outputs": [
    {
     "name": "stdout",
     "output_type": "stream",
     "text": [
      "4\n",
      "6\n",
      "8\n",
      "18\n"
     ]
    }
   ],
   "source": [
    "#Kerjakan nomor 3 di kolom ini\n",
    "list_angka = [3,7,4,1,13,6,9,8,15,18,21]\n",
    "for num in list_angka:\n",
    "    if num % 2 == 0:\n",
    "        print(num)\n",
    "    "
   ]
  }
 ],
 "metadata": {
  "kernelspec": {
   "display_name": "Python 3",
   "language": "python",
   "name": "python3"
  },
  "language_info": {
   "codemirror_mode": {
    "name": "ipython",
    "version": 3
   },
   "file_extension": ".py",
   "mimetype": "text/x-python",
   "name": "python",
   "nbconvert_exporter": "python",
   "pygments_lexer": "ipython3",
   "version": "3.11.2"
  },
  "orig_nbformat": 4,
  "vscode": {
   "interpreter": {
    "hash": "5addf786bcd861d1ce5006f23111f8cbb206731e5b61b0a5632ba9e0252558a8"
   }
  }
 },
 "nbformat": 4,
 "nbformat_minor": 2
}
