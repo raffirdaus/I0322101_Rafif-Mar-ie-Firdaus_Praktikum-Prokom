{
 "cells": [
  {
   "attachments": {},
   "cell_type": "markdown",
   "metadata": {},
   "source": [
    "1. Buatlah program untuk menghitung pangkat 2 dari angka 1 hingga 50!"
   ]
  },
  {
   "cell_type": "code",
   "execution_count": 1,
   "metadata": {},
   "outputs": [
    {
     "name": "stdout",
     "output_type": "stream",
     "text": [
      "1 dipangkatkan 2 = 1\n",
      "2 dipangkatkan 2 = 4\n",
      "3 dipangkatkan 2 = 9\n",
      "4 dipangkatkan 2 = 16\n",
      "5 dipangkatkan 2 = 25\n",
      "6 dipangkatkan 2 = 36\n",
      "7 dipangkatkan 2 = 49\n",
      "8 dipangkatkan 2 = 64\n",
      "9 dipangkatkan 2 = 81\n",
      "10 dipangkatkan 2 = 100\n",
      "11 dipangkatkan 2 = 121\n",
      "12 dipangkatkan 2 = 144\n",
      "13 dipangkatkan 2 = 169\n",
      "14 dipangkatkan 2 = 196\n",
      "15 dipangkatkan 2 = 225\n",
      "16 dipangkatkan 2 = 256\n",
      "17 dipangkatkan 2 = 289\n",
      "18 dipangkatkan 2 = 324\n",
      "19 dipangkatkan 2 = 361\n",
      "20 dipangkatkan 2 = 400\n",
      "21 dipangkatkan 2 = 441\n",
      "22 dipangkatkan 2 = 484\n",
      "23 dipangkatkan 2 = 529\n",
      "24 dipangkatkan 2 = 576\n",
      "25 dipangkatkan 2 = 625\n",
      "26 dipangkatkan 2 = 676\n",
      "27 dipangkatkan 2 = 729\n",
      "28 dipangkatkan 2 = 784\n",
      "29 dipangkatkan 2 = 841\n",
      "30 dipangkatkan 2 = 900\n",
      "31 dipangkatkan 2 = 961\n",
      "32 dipangkatkan 2 = 1024\n",
      "33 dipangkatkan 2 = 1089\n",
      "34 dipangkatkan 2 = 1156\n",
      "35 dipangkatkan 2 = 1225\n",
      "36 dipangkatkan 2 = 1296\n",
      "37 dipangkatkan 2 = 1369\n",
      "38 dipangkatkan 2 = 1444\n",
      "39 dipangkatkan 2 = 1521\n",
      "40 dipangkatkan 2 = 1600\n",
      "41 dipangkatkan 2 = 1681\n",
      "42 dipangkatkan 2 = 1764\n",
      "43 dipangkatkan 2 = 1849\n",
      "44 dipangkatkan 2 = 1936\n",
      "45 dipangkatkan 2 = 2025\n",
      "46 dipangkatkan 2 = 2116\n",
      "47 dipangkatkan 2 = 2209\n",
      "48 dipangkatkan 2 = 2304\n",
      "49 dipangkatkan 2 = 2401\n",
      "50 dipangkatkan 2 = 2500\n"
     ]
    }
   ],
   "source": [
    "# Kerjakan nomor 1 di sini\n",
    "for x in range(1,51):\n",
    "    y = x**2\n",
    "    print(f'{x} dipangkatkan 2 = {y}')"
   ]
  },
  {
   "attachments": {},
   "cell_type": "markdown",
   "metadata": {},
   "source": [
    "2. Buatlah sebuah list yang berisi daftar nama mahasiswa angkatan kalian minimal sejumlah 10 nama. Kemudian buat program pencarian menggunakan pengulangan, di mana apabila nama yang user inputkan sudah sesuai dengan isi list maka program akan berhenti dan menampilkan output \"Pencarian anda sudah berakhir\""
   ]
  },
  {
   "attachments": {},
   "cell_type": "markdown",
   "metadata": {},
   "source": [
    "catatan: perhatikan user dapat menginputkan menggunakan baik huruf kapital maupun tidak"
   ]
  },
  {
   "cell_type": "code",
   "execution_count": 15,
   "metadata": {},
   "outputs": [
    {
     "name": "stdout",
     "output_type": "stream",
     "text": [
      "rafif \n",
      "Pencarian and sudah berakhir\n"
     ]
    }
   ],
   "source": [
    "# Kerjakan nomor 2 di sini\n",
    "list_nama = ['rafif','rapip','rapep','pip','pep','gandhi','panipuri','behel','baut','india',]\n",
    "fungsi = input('masukkan nama')\n",
    "fungsi = fungsi.lower()\n",
    "for x in list_nama:\n",
    "    if fungsi == x:\n",
    "        print(f'{x} \\nPencarian and sudah berakhir')\n",
    "        break\n",
    "    print(x)"
   ]
  },
  {
   "attachments": {},
   "cell_type": "markdown",
   "metadata": {},
   "source": [
    "3. Disajikan list sebagai berikut "
   ]
  },
  {
   "cell_type": "code",
   "execution_count": null,
   "metadata": {},
   "outputs": [],
   "source": [
    "bulan = ['januari', 'februari', 'maret', 'april','mei','juni','juli','agustus','september','oktober','november','desember']\n",
    "kota = ['jakarta' , 'kuala lumpur', 'bangkok', 'seoul', 'canada','london','dubai','barcelona']"
   ]
  },
  {
   "attachments": {},
   "cell_type": "markdown",
   "metadata": {},
   "source": [
    "Robert adalah seorang penyanyi terkenal. Dia merencanakan konser world tour di tahun 2024 mendatang di berbagai negara. Dengan catatan pada bulan April dan Mei, Robert kembali ke indonesia untuk istirahat sejenak kemudian melanjutkan lagi konser. Berdasarkan kasus tersebut buatlah program pengulangannya!"
   ]
  },
  {
   "cell_type": "code",
   "execution_count": 21,
   "metadata": {},
   "outputs": [
    {
     "name": "stdout",
     "output_type": "stream",
     "text": [
      "Robert akan tampil di jakarta pada bulan januari\n",
      "Robert akan tampil di kuala lumpur pada bulan februari\n",
      "Robert akan tampil di bangkok pada bulan maret\n",
      "Robert akan is akan istirahat di bulan april\n",
      "Robert akan is akan istirahat di bulan mei\n",
      "Robert akan tampil di seoul pada bulan juni\n",
      "Robert akan tampil di canada pada bulan juli\n",
      "Robert akan tampil di london pada bulan agustus\n",
      "Robert akan tampil di dubai pada bulan september\n",
      "Robert akan tampil di barcelona pada bulan oktober\n",
      "Robert akan tampil di jakarta pada bulan november\n",
      "Robert akan tampil di kuala lumpur pada bulan desember\n"
     ]
    }
   ],
   "source": [
    "# kerjakan nomor 3 di sini\n",
    "bulan = ['januari', 'februari', 'maret', 'april','mei','juni','juli','agustus','september','oktober','november','desember']\n",
    "kota = ['jakarta' , 'kuala lumpur', 'bangkok', 'seoul', 'canada','london','dubai','barcelona']\n",
    "i=0\n",
    "for j in bulan:\n",
    "    if j in['april','mei']:\n",
    "        print('Robert akan is akan istirahat di bulan', j)\n",
    "        continue\n",
    "    print('Robert akan tampil di', kota[i], f'pada bulan {j}')\n",
    "    i = i+1 \n",
    "    if i == 8:\n",
    "        i = 0"
   ]
  }
 ],
 "metadata": {
  "kernelspec": {
   "display_name": "Python 3",
   "language": "python",
   "name": "python3"
  },
  "language_info": {
   "codemirror_mode": {
    "name": "ipython",
    "version": 3
   },
   "file_extension": ".py",
   "mimetype": "text/x-python",
   "name": "python",
   "nbconvert_exporter": "python",
   "pygments_lexer": "ipython3",
   "version": "3.11.0"
  },
  "orig_nbformat": 4
 },
 "nbformat": 4,
 "nbformat_minor": 2
}
