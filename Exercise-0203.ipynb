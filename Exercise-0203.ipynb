{
 "cells": [
  {
   "cell_type": "code",
   "execution_count": 1,
   "metadata": {},
   "outputs": [
    {
     "name": "stdout",
     "output_type": "stream",
     "text": [
      "Rafif Mar'ie Firdaus\n",
      "I0322101\n",
      "c\n"
     ]
    }
   ],
   "source": [
    "print(input(\"Nama: \"))\n",
    "print(input(\"NIM: \"))\n",
    "print(input(\"Kelas: \"))"
   ]
  },
  {
   "attachments": {},
   "cell_type": "markdown",
   "metadata": {},
   "source": [
    "## 1."
   ]
  },
  {
   "attachments": {},
   "cell_type": "markdown",
   "metadata": {},
   "source": [
    "buatlah program sederhana untuk:\n",
    "* **A** mencari massa jika diketahui nilai energi potensial, percepatan gravitasi, dan ketinggian benda! beserta rumus nya!\n",
    "* **B** mencari gaya apung jika diketahui massa jenis, tinggi, panjang, dan lebar benda serta percepatan gravitasi dan contohnya! beserta rumus nya!\n",
    "* **C** Tulis program Python untuk menghitung luas dari segi lima sama sisi!\n",
    "\n",
    "> *note* : rumus, contoh, dan nilai dari tiap variabel ditentukan oleh kalian sendiri dan gunakan satuan baku (SI) untuk menghitung nilai dari tiap variabel"
   ]
  },
  {
   "attachments": {},
   "cell_type": "markdown",
   "metadata": {},
   "source": [
    "## A\n",
    "Mencari massa"
   ]
  },
  {
   "cell_type": "code",
   "execution_count": 2,
   "metadata": {},
   "outputs": [
    {
     "name": "stdout",
     "output_type": "stream",
     "text": [
      "Berikut data yang diketahui\n",
      "---------------------------------\n",
      "Energi Potensial    = 294 N\n",
      "Gravitasi           = 9.8 m/s^2\n",
      "Ketinggian          = 10 m\n",
      "---------------------------------\n",
      "Rumus untuk mencari massa = Energi Potensial/(Gravitasi x Ketinggian)\n",
      "Maka massa dari benda = 294/(9.8 x 10)\n",
      "Massa benda = 3.0\n"
     ]
    }
   ],
   "source": [
    "#Ep = m x g x h\n",
    "#m = Ep/(gxh)\n",
    "Ep = 294\n",
    "g = 9.8\n",
    "h = 10\n",
    "m = Ep/(g*h)\n",
    "print('Berikut data yang diketahui')\n",
    "print('---------------------------------')\n",
    "print(f'Energi Potensial    = {Ep} N')\n",
    "print(f'Gravitasi           = {g} m/s^2')\n",
    "print(f'Ketinggian          = {h} m')\n",
    "print('---------------------------------')\n",
    "print('Rumus untuk mencari massa = Energi Potensial/(Gravitasi x Ketinggian)')\n",
    "print('Maka massa dari benda = 294/(9.8 x 10)')\n",
    "print(f'Massa benda = {m}')\n"
   ]
  },
  {
   "attachments": {},
   "cell_type": "markdown",
   "metadata": {},
   "source": [
    "## B\n",
    "Mencari gaya apung"
   ]
  },
  {
   "cell_type": "code",
   "execution_count": 9,
   "metadata": {},
   "outputs": [
    {
     "name": "stdout",
     "output_type": "stream",
     "text": [
      "Berikut data yang diketahui\n",
      "---------------------------------\n",
      "Massa Jenis Benda   = 3500 Kg/m^3\n",
      "Gravitasi           = 10 m/s^2\n",
      "Panjang             = 19 M\n",
      "Lebar               = 29 m\n",
      "Tinggi              = 10 m\n",
      "Volume              = Panjang x Lebar x Tinggi = 5510\n",
      "---------------------------------\n",
      "Rumus gaya apung     = ρ x gravitasi x volume\n",
      "Maka gaya apung     = 3500 x 10 x 5510\n",
      "Maka gaya apung     = 192850000 N\n"
     ]
    }
   ],
   "source": [
    "#F = rho * g * v\n",
    "panjang = 19\n",
    "lebar = 29\n",
    "tinggi = 10\n",
    "volume = panjang*lebar*tinggi\n",
    "grav = 10\n",
    "massajenis = 3500\n",
    "print('Berikut data yang diketahui')\n",
    "print('---------------------------------')\n",
    "print(f\"Massa Jenis Benda   = {massajenis} Kg/m^3\")\n",
    "print(f'Gravitasi           = {grav} m/s^2')\n",
    "print(f'Panjang             = {panjang} M')\n",
    "print(f'Lebar               = {lebar} m')\n",
    "print(f'Tinggi              = {tinggi} m')\n",
    "print(f'Volume              = Panjang x Lebar x Tinggi = {volume}')\n",
    "print('---------------------------------')\n",
    "print('Rumus gaya apung     = ρ x gravitasi x volume')\n",
    "print(f'Maka gaya apung     = {massajenis} x {grav} x {volume}')\n",
    "print(f'Maka gaya apung     = {massajenis*grav*volume} N')\n"
   ]
  },
  {
   "attachments": {},
   "cell_type": "markdown",
   "metadata": {},
   "source": [
    "## C\n",
    "Rumus Luas segi lima sama sisi"
   ]
  },
  {
   "cell_type": "code",
   "execution_count": 13,
   "metadata": {},
   "outputs": [
    {
     "name": "stdout",
     "output_type": "stream",
     "text": [
      "Diketahui sisi dari segi lima sama sisi = 10\n",
      "rumus luas segi 5 sama sisi = sisi^2/4 x √(25+10√5)\n",
      "rumus luas segi 5 sama sisi = 10^2/4 x √(25+10√5)\n",
      "Maka luas segi lima sama sisi =  172.0\n"
     ]
    }
   ],
   "source": [
    "sisi = int(input('Masukkan panjang sisi segi 5 sama sisi = '))\n",
    "luassegi5 = 1.72*sisi*sisi\n",
    "print(f'Diketahui sisi dari segi lima sama sisi = {sisi}')\n",
    "print('rumus luas segi 5 sama sisi = sisi^2/4 x √(25+10√5)')\n",
    "print(f'rumus luas segi 5 sama sisi = {sisi}^2/4 x √(25+10√5)')\n",
    "print(f'Maka luas segi lima sama sisi =  {luassegi5}')"
   ]
  },
  {
   "attachments": {},
   "cell_type": "markdown",
   "metadata": {},
   "source": [
    "## 2."
   ]
  },
  {
   "attachments": {},
   "cell_type": "markdown",
   "metadata": {},
   "source": [
    "Taman bermain ANCOL memiliki berbagai wahana, salah satunya adalah bianglala. Harga tiket yang dijual berbeda tergantung dengan kategori nya. Harga tiket bagi orang dewasa atau yang berumur lebih dari 17 tahun adalah Rp 110.000 , harga tiket untuk anak-anak usia 6-16 tahun adalah Rp. 75.000 , sedangkan untuk usia dibawahnya tidak dikenakan biaya. Pada wahana bianglala sedang ada \"Promo RAMADHAN\" sebesar 20% bagi pembelian tiket lebih dari 2 pcs.\n",
    "\n",
    "Keluarga Anya Forger ingin menaiki wahana bianglala tersebut, Anya (usia 18 tahun) pergi bersama ayah dan ibunya beserta dua adiknya, Harry (usia 8 tahun) dan Taylor (usia 4 tahun). \n",
    "\n",
    "> Buatlah program sederhana untuk menghitung harga total dari pembelian tiket  oleh keluarga Anya dan harga tiket setelah mendapatkan diskon"
   ]
  },
  {
   "cell_type": "code",
   "execution_count": 19,
   "metadata": {},
   "outputs": [
    {
     "name": "stdout",
     "output_type": "stream",
     "text": [
      "Jumlah penumpang dewasa = 3\n",
      "Jumlah penumpang berumur 6 - 16 = 1\n",
      "---------------------------------\n",
      "Jumlah total harga tiket = Rp. 405000\n",
      "Dikarenakan pembelian tiket lebih dari 2 pcs harga terkena potongan Promo RAMADHAN\n",
      "---------------------------------\n",
      "Promo RAMADHAN memberi potongan harga sebesar 20%\n",
      "Harga setelah discount Promo RAMAHDAN = Rp. 324000.0\n"
     ]
    }
   ],
   "source": [
    "tiketdewasa = 110000\n",
    "tiketmuda = 75000\n",
    "promo = 4/5\n",
    "jumlahtiketdewasa = 3\n",
    "jumlahtiketmuda = 1\n",
    "hargatotal= tiketdewasa*jumlahtiketdewasa + tiketmuda*jumlahtiketmuda\n",
    "hargadiscount = hargatotal*promo\n",
    "print(f'Jumlah penumpang dewasa = {jumlahtiketdewasa}')\n",
    "print(f'Jumlah penumpang berumur 6 - 16 = {jumlahtiketmuda}')\n",
    "print('---------------------------------')\n",
    "print(f'Jumlah total harga tiket = Rp. {hargatotal}')\n",
    "print('Dikarenakan pembelian tiket lebih dari 2 pcs harga terkena potongan Promo RAMADHAN')\n",
    "print('---------------------------------')\n",
    "print('Promo RAMADHAN memberi potongan harga sebesar 20%')\n",
    "print(f'Harga setelah discount Promo RAMAHDAN = Rp. {hargadiscount}')\n"
   ]
  },
  {
   "attachments": {},
   "cell_type": "markdown",
   "metadata": {},
   "source": [
    "## 3. "
   ]
  },
  {
   "attachments": {},
   "cell_type": "markdown",
   "metadata": {},
   "source": [
    "diberikan list aslab sebagai berikut:\n",
    "```python\n",
    "list_aslab = [\n",
    "    {\"nama\": \"Berlian Safri Prakoso\", \"nim\": \"I0320017\", \"kontak\": \"0858XXXXXXXX\"},\n",
    "    {\"nama\": \"Halidya Siti Hanifah\", \"nim\": \"I0320044\", \"kontak\": \"0878XXXXXXXX\"},\n",
    "    {\"nama\": \"Nurki Putra Mahardika\", \"nim\": \"I0320076\", \"kontak\": \"0877XXXXXXXX\"},\n",
    "    {\"nama\": \"Aji Manarul Aziz\", \"nim\": \"I0320119\", \"kontak\": \"0812XXXXXXXX\"},\n",
    "    {\"nama\": \"Alica Ayu Fitriani\", \"nim\": \"I0320121\", \"kontak\": \"0896XXXXXXXX\"},\n",
    "    {\"nama\": \"Dendy Halim Kusuma\", \"nim\": \"I0320125\", \"kontak\": \"0822XXXXXXXX\"}\n",
    "]\n",
    "```\n",
    "* **A** Tuliskan kode untuk mengakses informasi tentang \"nama\" dari semua aslab mulai dari index 1 sampai 5\n",
    "* **B** Tambahkan informasi berikut pada data aslab dan tampilkan hasilnya:\n",
    "```python\n",
    "    surel = [\"berlian@student.uns.ac.id\",\n",
    "          \"halidya@student.uns.ac.id\",\n",
    "          \"nurki@student.uns.ac.id\",\n",
    "          \"manarul@student.uns.ac.id\",\n",
    "          \"alica@student.uns.ac.id\",\n",
    "          \"dendy@student.uns.ac.id\"]\n",
    "```\n",
    "* **C** Hapus nilai pada kunci \"kontak\" pada list aslab dan tampilkan hasilnya\n",
    "> *note: kalian hanya boleh menggunakan key-value pair yang disebutkan di dalam teks, tanpa menggunakan informasi tambahan yang diambil pada list yang ada*"
   ]
  },
  {
   "cell_type": "code",
   "execution_count": 49,
   "metadata": {},
   "outputs": [
    {
     "name": "stdout",
     "output_type": "stream",
     "text": [
      "Berlian Safri Prakoso\n",
      "Halidya Siti Hanifah\n",
      "Nurki Putra Mahardika\n",
      "Aji Manarul Aziz\n",
      "Alica Ayu Fitriani\n",
      "Dendy Halim Kusuma\n",
      "1 {'nama': 'Berlian Safri Prakoso', 'nim': 'I0320017', 'kontak': '0858XXXXXXXX'} berlian@student.uns.ac.id\n",
      "2 {'nama': 'Halidya Siti Hanifah', 'nim': 'I0320044', 'kontak': '0878XXXXXXXX'} halidya@student.uns.ac.id\n",
      "3 {'nama': 'Nurki Putra Mahardika', 'nim': 'I0320076', 'kontak': '0877XXXXXXXX'} nurki@student.uns.ac.id\n",
      "4 {'nama': 'Aji Manarul Aziz', 'nim': 'I0320119', 'kontak': '0812XXXXXXXX'} manarul@student.uns.ac.id\n",
      "5 {'nama': 'Alica Ayu Fitriani', 'nim': 'I0320121', 'kontak': '0896XXXXXXXX'} alica@student.uns.ac.id\n",
      "6 {'nama': 'Dendy Halim Kusuma', 'nim': 'I0320125', 'kontak': '0822XXXXXXXX'} dendy@student.uns.ac.id\n",
      "{'nama': 'Berlian Safri Prakoso', 'nim': 'I0320017'}\n",
      "{'nama': 'Halidya Siti Hanifah', 'nim': 'I0320044'}\n",
      "{'nama': 'Nurki Putra Mahardika', 'nim': 'I0320076'}\n",
      "{'nama': 'Aji Manarul Aziz', 'nim': 'I0320119'}\n",
      "{'nama': 'Alica Ayu Fitriani', 'nim': 'I0320121'}\n",
      "{'nama': 'Dendy Halim Kusuma', 'nim': 'I0320125'}\n"
     ]
    }
   ],
   "source": [
    "list_aslab = [\n",
    "    {\"nama\": \"Berlian Safri Prakoso\", \"nim\": \"I0320017\", \"kontak\": \"0858XXXXXXXX\"},\n",
    "    {\"nama\": \"Halidya Siti Hanifah\", \"nim\": \"I0320044\", \"kontak\": \"0878XXXXXXXX\"},\n",
    "    {\"nama\": \"Nurki Putra Mahardika\", \"nim\": \"I0320076\", \"kontak\": \"0877XXXXXXXX\"},\n",
    "    {\"nama\": \"Aji Manarul Aziz\", \"nim\": \"I0320119\", \"kontak\": \"0812XXXXXXXX\"},\n",
    "    {\"nama\": \"Alica Ayu Fitriani\", \"nim\": \"I0320121\", \"kontak\": \"0896XXXXXXXX\"},\n",
    "    {\"nama\": \"Dendy Halim Kusuma\", \"nim\": \"I0320125\", \"kontak\": \"0822XXXXXXXX\"}\n",
    "]\n",
    "#A\n",
    "for i in range (0,6):\n",
    "    print(list_aslab[i][\"nama\"])\n",
    "#B\n",
    "surel =  [\"berlian@student.uns.ac.id\",\n",
    "          \"halidya@student.uns.ac.id\",\n",
    "          \"nurki@student.uns.ac.id\",\n",
    "          \"manarul@student.uns.ac.id\",\n",
    "          \"alica@student.uns.ac.id\",\n",
    "          \"dendy@student.uns.ac.id\"]\n",
    "def menambahdata():\n",
    "    for i in range (0,len(list_aslab)):\n",
    "        print(i+1,list_aslab[i],surel[i])\n",
    "menambahdata()\n",
    "#C\n",
    "for i in range (len(list_aslab)):\n",
    "    list_aslab[i].pop(\"kontak\")\n",
    "    \n",
    "for i in range (len(list_aslab)):\n",
    "    print(list_aslab[i])"
   ]
  }
 ],
 "metadata": {
  "kernelspec": {
   "display_name": "Python 3",
   "language": "python",
   "name": "python3"
  },
  "language_info": {
   "codemirror_mode": {
    "name": "ipython",
    "version": 3
   },
   "file_extension": ".py",
   "mimetype": "text/x-python",
   "name": "python",
   "nbconvert_exporter": "python",
   "pygments_lexer": "ipython3",
   "version": "3.11.2"
  },
  "orig_nbformat": 4,
  "vscode": {
   "interpreter": {
    "hash": "5addf786bcd861d1ce5006f23111f8cbb206731e5b61b0a5632ba9e0252558a8"
   }
  }
 },
 "nbformat": 4,
 "nbformat_minor": 2
}
