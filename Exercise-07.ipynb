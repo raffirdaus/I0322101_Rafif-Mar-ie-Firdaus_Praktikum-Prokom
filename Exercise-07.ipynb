{
 "cells": [
  {
   "cell_type": "code",
   "execution_count": 34,
   "metadata": {},
   "outputs": [
    {
     "data": {
      "text/plain": [
       "[[1, 2], [3, 4]]"
      ]
     },
     "execution_count": 34,
     "metadata": {},
     "output_type": "execute_result"
    }
   ],
   "source": [
    "#Buatlah sebuah fungsi untuk membuat matrix berdasarkan input dari user\n",
    "import numpy as np\n",
    "def create_matrix(baris,kolom):\n",
    "    global matrix\n",
    "    matrix = [[0 for j in range(kolom)]for i in range(baris)]\n",
    "    for i in range(baris):\n",
    "        for j in range(kolom):\n",
    "            matrix[i][j] = int(input(f'masukkan angka untuk [{i+1}][{j+1}] : '))\n",
    "    return matrix\n",
    "\n",
    "baris = int(input('Masukkan Jumlah Baris'))\n",
    "kolom = int(input('Masukkan Jumlah Kolom'))\n",
    "create_matrix(baris,kolom)\n"
   ]
  },
  {
   "cell_type": "code",
   "execution_count": 36,
   "metadata": {},
   "outputs": [
    {
     "name": "stdout",
     "output_type": "stream",
     "text": [
      "[[1, 2], [3, 4]]\n"
     ]
    },
    {
     "data": {
      "text/plain": [
       "-2"
      ]
     },
     "execution_count": 36,
     "metadata": {},
     "output_type": "execute_result"
    }
   ],
   "source": [
    "#Buatlah sebuah fungsi untuk mencari determinan matrix berdasarkan input matrix dari user\n",
    "def create_matrix(baris,kolom):\n",
    "    global matrix\n",
    "    matrix = [[0 for j in range(kolom)]for i in range(baris)]\n",
    "    for i in range(baris):\n",
    "        for j in range(kolom):\n",
    "            matrix[i][j] = int(input(f'masukkan angka untuk [{i+1}][{j+1}] : '))\n",
    "    return matrix\n",
    "\n",
    "baris = int(input('Masukkan Jumlah Baris'))\n",
    "kolom = int(input('Masukkan Jumlah Kolom'))\n",
    "create_matrix(baris,kolom)\n",
    "\n",
    "def determinan(matrix):\n",
    "    n = len(matrix)\n",
    "    if n == 1:\n",
    "        return matrix[0][0]\n",
    "    else:\n",
    "        det = 0\n",
    "        for j in range(n):\n",
    "            temp = [row[:j]+row[j+1:] for row in matrix[1:]]\n",
    "            det += (-1)**j * matrix[0][j] * determinant(temp)\n",
    "    return det\n",
    "print(matrix)\n",
    "determinan(matrix)"
   ]
  },
  {
   "cell_type": "code",
   "execution_count": 29,
   "metadata": {},
   "outputs": [
    {
     "name": "stdout",
     "output_type": "stream",
     "text": [
      "matrix 1 = [[2]]\n",
      "matrix 2 = [[3]]\n"
     ]
    },
    {
     "data": {
      "text/plain": [
       "[[6]]"
      ]
     },
     "execution_count": 29,
     "metadata": {},
     "output_type": "execute_result"
    }
   ],
   "source": [
    "#Buatlah fungsi untuk mengakalikan dua buah matrix berdasarkan input user menggunakan nested loop\n",
    "def create_matrix1(baris1,kolom1):\n",
    "    global matrix1\n",
    "    matrix1=[[0 for j in range(kolom1)]for i in range (baris1)]\n",
    "    for i in range(baris1):\n",
    "        for j in range (kolom1):\n",
    "            matrix1[i][j]=int(input(f'masukkan angka untuk [{i+1}][{j+1}] : '))\n",
    "    return matrix1\n",
    "\n",
    "baris1= int(input('Masukkan Jumlah Baris Matrix 1'))\n",
    "kolom1= int(input('Masukkan Jumlah Kolom Matrix 1'))\n",
    "create_matrix1(baris1,kolom1)\n",
    "\n",
    "def create_matrix2(baris2,kolom2):\n",
    "    global matrix2\n",
    "    matrix2=[[0 for j in range(kolom2)]for i in range (baris2)]\n",
    "    for i in range(baris2):\n",
    "        for j in range (kolom2):\n",
    "            matrix2[i][j]=int(input(f'masukkan angka untuk [{i+1}][{j+1}] : '))\n",
    "    return matrix2\n",
    "\n",
    "baris2= int(input('Masukkan Jumlah Baris Matrix 2'))\n",
    "kolom2= int(input('Masukkan Jumlah Kolom Matrix 2'))\n",
    "create_matrix2(baris2,kolom2)\n",
    "\n",
    "def multiply_matrix(matrix1, matrix2):\n",
    "    result=[]\n",
    "    x = len(matrix1)\n",
    "    y = len(matrix2[0])\n",
    "    z = len(matrix2)\n",
    "\n",
    "    #Tulis kode kamu disini\n",
    "    hasil = [[0 for j in range(y)]for i in range(x)]\n",
    "    for i in range(x):\n",
    "        for j in range(y):\n",
    "            for k in range(z):\n",
    "                hasil[i][i]+=matrix1[i][k]*matrix2[k][j]\n",
    "\n",
    "    return hasil\n",
    "    for r in hasil:\n",
    "        print(r)\n",
    "\n",
    "print('matrix 1 =', matrix1)\n",
    "print('matrix 2 =', matrix2)\n",
    "\n",
    "multiply_matrix(matrix1, matrix2)"
   ]
  }
 ],
 "metadata": {
  "kernelspec": {
   "display_name": "Python 3",
   "language": "python",
   "name": "python3"
  },
  "language_info": {
   "codemirror_mode": {
    "name": "ipython",
    "version": 3
   },
   "file_extension": ".py",
   "mimetype": "text/x-python",
   "name": "python",
   "nbconvert_exporter": "python",
   "pygments_lexer": "ipython3",
   "version": "3.11.3"
  },
  "orig_nbformat": 4
 },
 "nbformat": 4,
 "nbformat_minor": 2
}
