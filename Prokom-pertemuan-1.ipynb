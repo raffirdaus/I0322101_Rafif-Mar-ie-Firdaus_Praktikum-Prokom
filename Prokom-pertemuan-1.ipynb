{
 "cells": [
  {
   "cell_type": "code",
   "execution_count": null,
   "metadata": {},
   "outputs": [],
   "source": [
    "#urutannya workingtree, staging area, git\n",
    "#pertama git add, git commit, git push buat add file dari local repo ke github repo\n",
    "#push itu dari git ke github\n",
    "#pull itu dari github ke git"
   ]
  }
 ],
 "metadata": {
  "language_info": {
   "name": "python"
  },
  "orig_nbformat": 4
 },
 "nbformat": 4,
 "nbformat_minor": 2
}
